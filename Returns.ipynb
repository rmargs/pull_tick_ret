{
 "cells": [
  {
   "cell_type": "code",
   "execution_count": 1,
   "metadata": {},
   "outputs": [],
   "source": [
    "import numpy as np\n",
    "import pandas as pd\n",
    "import matplotlib.pyplot as plt\n",
    "\n",
    "import yfinance as yf\n",
    "import datetime as dt"
   ]
  },
  {
   "cell_type": "markdown",
   "metadata": {},
   "source": [
    "## Common tickers"
   ]
  },
  {
   "cell_type": "code",
   "execution_count": 3,
   "metadata": {},
   "outputs": [],
   "source": [
    "# EQUITIES\n",
    "#MSCI World: URTH\n",
    "# S&P 500:  ^GSPC\n",
    "# Russell 2000: ^RUT\n",
    "# FTSE 100: ^FTSE\n",
    "# Nikkei 225: ^N225\n",
    "# Nasdaq = ^IXIC\n",
    "# EURO STOXX 50 = ^STOXX50E\n",
    "# ishares MSCI ACWI = ACWI\n",
    "\n",
    "# FIXED INCOME\n",
    "# Treasury Yield 10 Years: ^TNX\n",
    "# Treasury Yield 30 Years: ^TYX\n",
    "\n",
    "# OTHER\n",
    "# Bitcoin: BTC-USD\n",
    "# Gold: GC=F\n",
    "# GBP/USD: GBPUSD=X\n",
    "# EUR/USD: EURUSD=X\n",
    "# EUR / GBP: EURGBP=X\n"
   ]
  },
  {
   "cell_type": "markdown",
   "metadata": {},
   "source": [
    "## Enter ticker and dates"
   ]
  },
  {
   "cell_type": "code",
   "execution_count": 2,
   "metadata": {},
   "outputs": [],
   "source": [
    "ticker = yf.Ticker(\"ACWI\")\n",
    "start = dt.date(year=2000,month=10,day=31)\n",
    "end = dt.date(year=2020,month=12,day=31)\n",
    "\n",
    "# display(ticker.info)"
   ]
  },
  {
   "cell_type": "markdown",
   "metadata": {},
   "source": [
    "## Calculations\n"
   ]
  },
  {
   "cell_type": "code",
   "execution_count": 3,
   "metadata": {},
   "outputs": [],
   "source": [
    "hist = pd.DataFrame(ticker.history(start=start,end=end),columns=['Close'])\n",
    "\n",
    "# cumulate return\n",
    "lst = hist['Close'].iloc[-1]\n",
    "frst = hist['Close'].iloc[0]\n",
    "cum_ret = (lst/frst) -1\n",
    "\n",
    "# annualized return\n",
    "tot_days=float(hist.shape[0])\n",
    "ann = (252/tot_days)\n",
    "ann_ret = ((1+cum_ret)**(ann))-1\n",
    "\n",
    "# volatility\n",
    "hist['daily_return'] = hist['Close'].pct_change(1)\n",
    "vol = np.std(hist['daily_return'])\n",
    "\n",
    "# cumulative volatility\n",
    "ann_vol=vol*np.sqrt(252)"
   ]
  },
  {
   "cell_type": "code",
   "execution_count": 4,
   "metadata": {},
   "outputs": [],
   "source": [
    "hist.to_csv('hist.csv')"
   ]
  },
  {
   "cell_type": "markdown",
   "metadata": {},
   "source": [
    "## Print results"
   ]
  },
  {
   "cell_type": "code",
   "execution_count": 5,
   "metadata": {},
   "outputs": [
    {
     "name": "stdout",
     "output_type": "stream",
     "text": [
      "start value:38.94 end value:90.66\n",
      "cumulative return of 1.3284 from 2000-10-31 to 2020-12-31\n",
      "annualized return of 0.0685 from 2000-10-31 to 2020-12-31\n",
      "volatility of 0.0137 from 2000-10-31 to 2020-12-31\n",
      "annualized volatility of 0.2173 from 2000-10-31 to 2020-12-31\n"
     ]
    },
    {
     "data": {
      "text/plain": [
       "<matplotlib.axes._subplots.AxesSubplot at 0x21cd002cdf0>"
      ]
     },
     "execution_count": 5,
     "metadata": {},
     "output_type": "execute_result"
    },
    {
     "data": {
      "image/png": "[encoded data removed]",
      "text/plain": [
       "<Figure size 432x288 with 1 Axes>"
      ]
     },
     "metadata": {
      "needs_background": "light"
     },
     "output_type": "display_data"
    }
   ],
   "source": [
    "print(f'start value:{round(frst,2)} end value:{round(lst,2)}')\n",
    "print(f'cumulative return of {round(cum_ret,4)} from {start} to {end}')\n",
    "print(f'annualized return of {round(ann_ret,4)} from {start} to {end}')\n",
    "print(f'volatility of {round(vol,4)} from {start} to {end}')\n",
    "print(f'annualized volatility of {round(ann_vol,4)} from {start} to {end}')\n",
    "\n",
    "hist['Close'].plot(legend=None)"
   ]
  },
  {
   "cell_type": "markdown",
   "metadata": {},
   "source": [
    "# "
   ]
  },
  {
   "cell_type": "code",
   "execution_count": null,
   "metadata": {},
   "outputs": [],
   "source": []
  }
 ],
 "metadata": {
  "kernelspec": {
   "display_name": "Python 3",
   "language": "python",
   "name": "python3"
  },
  "language_info": {
   "codemirror_mode": {
    "name": "ipython",
    "version": 3
   },
   "file_extension": ".py",
   "mimetype": "text/x-python",
   "name": "python",
   "nbconvert_exporter": "python",
   "pygments_lexer": "ipython3",
   "version": "3.8.5"
  }
 },
 "nbformat": 4,
 "nbformat_minor": 4
}
